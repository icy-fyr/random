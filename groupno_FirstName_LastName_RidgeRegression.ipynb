{
 "cells": [
  {
   "cell_type": "code",
   "execution_count": null,
   "metadata": {
    "id": "Cr5M5xo8bCrB"
   },
   "outputs": [],
   "source": [
    "# Do not make any changes in this cell\n",
    "# Simply execute it and move on\n",
    "\n",
    "import pandas as pd\n",
    "import numpy as np\n",
    "import matplotlib.pyplot as plt\n",
    "import json\n",
    "ans = [0]*8"
   ]
  },
  {
   "cell_type": "code",
   "execution_count": null,
   "metadata": {
    "id": "1f2v_HjQbqly"
   },
   "outputs": [],
   "source": [
    "# The exercise uses Boston housing dataset which is an inbuilt dataset of scikit learn.\n",
    "# Run the cell below to import and get the information about the data.\n",
    "\n",
    "# Do not make any changes in this cell.\n",
    "# Simply execute it and move on\n",
    "\n",
    "from sklearn.datasets import load_boston\n",
    "boston=load_boston()\n",
    "boston"
   ]
  },
  {
   "cell_type": "code",
   "execution_count": null,
   "metadata": {
    "id": "spBypUdScL8U"
   },
   "outputs": [],
   "source": [
    "# Creating a dataframe\n",
    "\n",
    "# Do not make any changes in this cell\n",
    "# Simply execute it and move on\n",
    "\n",
    "boston_df=pd.DataFrame(boston['data'], columns=boston['feature_names'])\n",
    "boston_df['target'] = pd.DataFrame(boston['target'])\n",
    "boston_df\n"
   ]
  },
  {
   "cell_type": "code",
   "execution_count": null,
   "metadata": {
    "id": "cwI6sE7cc7rW"
   },
   "outputs": [],
   "source": [
    "# Question 1: Find the mean of the \"target\" values in the dataframe (boston_df)  \n",
    "#             Assign the answer to ans[0] \n",
    "#             eg. ans[0] = 24.976534890123 (if mean obtained = 24.976534890123)"
   ]
  },
  {
   "cell_type": "code",
   "execution_count": null,
   "metadata": {
    "id": "6qulRo1fdtIk"
   },
   "outputs": [],
   "source": [
    "# Your Code: Enter your Code below\n"
   ]
  },
  {
   "cell_type": "code",
   "execution_count": null,
   "metadata": {
    "id": "frZm9rnmdwIs"
   },
   "outputs": [],
   "source": [
    "#1 mark\n",
    "ans[0] = "
   ]
  },
  {
   "cell_type": "code",
   "execution_count": null,
   "metadata": {
    "id": "Dj2qsMWaeb9c"
   },
   "outputs": [],
   "source": [
    "# Just to get a look into distribution of data into datasets\n",
    "# Plot a histogram for boston_df\n",
    "\n"
   ]
  },
  {
   "cell_type": "markdown",
   "metadata": {
    "id": "1iO7S9qNfacW"
   },
   "source": [
    "**Splitting the data using train_test_split from sklearn library**"
   ]
  },
  {
   "cell_type": "code",
   "execution_count": null,
   "metadata": {
    "id": "cMrk3mX0fU4K"
   },
   "outputs": [],
   "source": [
    "# Import machine learning libraries  for train_test_split\n",
    "\n",
    "...\n",
    "\n",
    "# Split the data into X and Y\n",
    "\n",
    "...\n",
    "\n",
    "# Spliting our data further into train and test (train-90% and test-10%)\n",
    "# Use (randon_state = 42) in train_test_split, so that your answer can be evaluated\n",
    "\n",
    "...\n",
    "\n",
    "\n"
   ]
  },
  {
   "cell_type": "markdown",
   "metadata": {
    "id": "4XLXVoPyjrJw"
   },
   "source": [
    "**LINEAR REGRESSION**"
   ]
  },
  {
   "cell_type": "code",
   "execution_count": null,
   "metadata": {
    "id": "RfTvZ73seyrG"
   },
   "outputs": [],
   "source": [
    "# Question 2: Find mean squared error on the test set and the linear regression intercept(b)  \n",
    "#             Assign the answer to ans[0] in the form of a list \n",
    "#             eg. ans[1] = [78.456398468,34.276498234098] \n",
    "#                  here , mean squared error             = 78.456398468\n",
    "#                         linear regression intercept(b) = 34.276498234098\n"
   ]
  },
  {
   "cell_type": "code",
   "execution_count": null,
   "metadata": {
    "id": "LT0LxSNkg-JM"
   },
   "outputs": [],
   "source": [
    "# Fit a linear regression model on the above training data and find MSE over the test set.\n",
    "# Your Code: Enter your Code below\n"
   ]
  },
  {
   "cell_type": "code",
   "execution_count": null,
   "metadata": {
    "id": "qY56e1hphB8d"
   },
   "outputs": [],
   "source": [
    "# 2 marks\n",
    "ans[1] = "
   ]
  },
  {
   "cell_type": "markdown",
   "metadata": {
    "id": "3z9nfNuTjytb"
   },
   "source": [
    "**RIDGE REGRESSION**"
   ]
  },
  {
   "cell_type": "code",
   "execution_count": null,
   "metadata": {
    "id": "PIDR1n1oiu_R"
   },
   "outputs": [],
   "source": [
    "# Question 3: For what value of lambda (alpha)(in the list[0.5,1,5,10,50,100]) will we have least value of the mean squared error of testing set \n",
    "#             Take lambda (alpha) values as specified i.e. [0.5,1,5,10,50,100]\n",
    "#             Assign the answer to ans[2]  \n",
    "#             eg. ans[1] = 5  (if  lambda(alpha)=5)\n"
   ]
  },
  {
   "cell_type": "code",
   "execution_count": null,
   "metadata": {
    "id": "ATc4RAyBlZCH"
   },
   "outputs": [],
   "source": [
    "# Your Code: Enter your Code below\n"
   ]
  },
  {
   "cell_type": "code",
   "execution_count": null,
   "metadata": {
    "id": "7VdjPtqilhAJ"
   },
   "outputs": [],
   "source": [
    "#1 mark\n",
    "ans[2] = "
   ]
  },
  {
   "cell_type": "code",
   "execution_count": null,
   "metadata": {
    "id": "UsOpPn5Olkm-"
   },
   "outputs": [],
   "source": [
    "# Question 4: Find mean squared error on the test set and the Ridge regression intercept(b)\n",
    "#             Use the lamba(alpha) value obtained from question-3 \n",
    "#             Assign the answer to ans[3] in the form of a list \n",
    "#             eg. ans[3] = [45.456398468,143.276498234098] \n",
    "#                  here , mean squared error             = 45.456398468\n",
    "#                         Ridge regression intercept(b) = 143.276498234098\n"
   ]
  },
  {
   "cell_type": "code",
   "execution_count": null,
   "metadata": {
    "id": "icg9MI6ZlkyO"
   },
   "outputs": [],
   "source": [
    "# Your Code: Enter your Code below"
   ]
  },
  {
   "cell_type": "code",
   "execution_count": null,
   "metadata": {
    "id": "0A2scygllk9a"
   },
   "outputs": [],
   "source": [
    "# 2 marks\n",
    "ans[3] = "
   ]
  },
  {
   "cell_type": "code",
   "execution_count": null,
   "metadata": {
    "id": "CiIbohqZllIw"
   },
   "outputs": [],
   "source": [
    "# Plot the coefficient of the features( CRIM , INDUS , NOX ) with respective to  the lambda values specified [0.5,1,5,10,50,100]\n",
    "# Enter your code below\n"
   ]
  },
  {
   "cell_type": "markdown",
   "metadata": {
    "id": "lvyrdYaEm0yq"
   },
   "source": [
    "**LASSO REGRESSION**"
   ]
  },
  {
   "cell_type": "code",
   "execution_count": null,
   "metadata": {
    "id": "wZRhaPXamn5d"
   },
   "outputs": [],
   "source": [
    "# Question 5: For lambda (alpha)=1 find the lasso regression intercept and the test set mean squared error\n",
    "#             Assign the answer to ans[4] in the form of a list \n",
    "#             eg. ans[4] = [35.456398468,14.276498234098] \n",
    "#                  here , mean squared error             = 35.456398468\n",
    "#                         lasso regression intercept(b) = 14.276498234098\n"
   ]
  },
  {
   "cell_type": "code",
   "execution_count": null,
   "metadata": {
    "id": "J7nwJ_11n9YP"
   },
   "outputs": [],
   "source": [
    "# Your Code: Enter your Code below\n"
   ]
  },
  {
   "cell_type": "code",
   "execution_count": null,
   "metadata": {
    "id": "vOMlK2izoCLX"
   },
   "outputs": [],
   "source": [
    "#2 mark\n",
    "ans[4] = "
   ]
  },
  {
   "cell_type": "code",
   "execution_count": null,
   "metadata": {
    "id": "JTpJ20VFoJR9"
   },
   "outputs": [],
   "source": [
    "# Question 6: Find the most  important feature  in the data set i.e. which feature coefficient is further most non zero if lambda is increased gradually\n",
    "#             let CRIM=1,\tZN=2, INDUS=3,\tCHAS=4,\tNOX=5,\tRM=6,\tAGE=7,\tDIS=8,\tRAD=9,\tTAX=10,\tPTRATIO=11,\tB=12,\tLSTAT=13\n",
    "#              eg. if your answer is \"CHAS\"\n",
    "#                   then your answer should be ans[5]=4"
   ]
  },
  {
   "cell_type": "code",
   "execution_count": null,
   "metadata": {
    "id": "KvVVoXKAoJUs"
   },
   "outputs": [],
   "source": [
    "# Your Code: Enter your Code below\n"
   ]
  },
  {
   "cell_type": "code",
   "execution_count": null,
   "metadata": {
    "id": "N2sv3k_WoJYA"
   },
   "outputs": [],
   "source": [
    "#2 marks\n",
    "ans[5] = "
   ]
  },
  {
   "cell_type": "markdown",
   "metadata": {
    "id": "VURqrMMKwXv1"
   },
   "source": [
    "Run the below cell only once u complete answering all the above answers \n"
   ]
  },
  {
   "cell_type": "code",
   "execution_count": null,
   "metadata": {
    "id": "Ca9lfXvCwSd0"
   },
   "outputs": [],
   "source": [
    "##do not change this code\n",
    "import json\n",
    "ans = [str(item) for item in ans]\n",
    "\n",
    "filename = \"--Replace the Jupyter Notebook filename from Title here in the described format!---\"\n",
    "\n",
    "# Eg if your name is Saurav Joshi and email id is sauravjoshi123@gmail.com, filename becomes\n",
    "# filename = sauravjoshi123@gmail.com_Saurav_Joshi_LinearRegression"
   ]
  },
  {
   "cell_type": "markdown",
   "metadata": {},
   "source": [
    "## Do not change anything below!!\n",
    "- Make sure you have changed the above variable \"filename\" with the correct value. Do not change anything below!!"
   ]
  },
  {
   "cell_type": "code",
   "execution_count": null,
   "metadata": {},
   "outputs": [],
   "source": [
    "from importlib import import_module\n",
    "import os\n",
    "from pprint import pprint\n",
    "\n",
    "findScore = import_module('findScore')\n",
    "response = findScore.main(ans)\n",
    "response['details'] = filename\n",
    "with open(f'evaluation_{filename}.json', 'w') as outfile:\n",
    "    json.dump(response, outfile)\n",
    "pprint(response)"
   ]
  }
 ],
 "metadata": {
  "colab": {
   "authorship_tag": "ABX9TyOSADKalWfp29ocvPN7fonY",
   "name": "unit5_Begin.ipynb",
   "provenance": []
  },
  "kernelspec": {
   "display_name": "Python 3",
   "language": "python",
   "name": "python3"
  },
  "language_info": {
   "codemirror_mode": {
    "name": "ipython",
    "version": 3
   },
   "file_extension": ".py",
   "mimetype": "text/x-python",
   "name": "python",
   "nbconvert_exporter": "python",
   "pygments_lexer": "ipython3",
   "version": "3.6.9"
  }
 },
 "nbformat": 4,
 "nbformat_minor": 1
}
